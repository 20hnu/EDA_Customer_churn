{
 "cells": [
  {
   "cell_type": "code",
   "execution_count": 1,
   "id": "4d4cf3a1",
   "metadata": {},
   "outputs": [],
   "source": [
    "import pandas as pd\n",
    "import numpy as np\n",
    "import matplotlib.pyplot as plt\n",
    "import seaborn as sns"
   ]
  },
  {
   "cell_type": "code",
   "execution_count": 4,
   "id": "d0562a3f",
   "metadata": {},
   "outputs": [
    {
     "name": "stdout",
     "output_type": "stream",
     "text": [
      "/home/bishnu/project/EDA_Customer_churn/notebooks\n"
     ]
    }
   ],
   "source": [
    "import os\n",
    "print(os.getcwd())"
   ]
  },
  {
   "cell_type": "code",
   "execution_count": 5,
   "metadata": {},
   "outputs": [],
   "source": [
    "\n",
    "df = pd.read_csv('/home/bishnu/project/EDA_Customer_churn/data/cleaned_data.csv')"
   ]
  },
  {
   "cell_type": "code",
   "execution_count": 8,
   "id": "897769d8",
   "metadata": {},
   "outputs": [
    {
     "data": {
      "text/plain": [
       "(7043, 21)"
      ]
     },
     "execution_count": 8,
     "metadata": {},
     "output_type": "execute_result"
    }
   ],
   "source": [
    "df.shape"
   ]
  },
  {
   "cell_type": "code",
   "execution_count": 6,
   "id": "79ed0f3a",
   "metadata": {},
   "outputs": [
    {
     "data": {
      "application/vnd.microsoft.datawrangler.viewer.v0+json": {
       "columns": [
        {
         "name": "index",
         "rawType": "int64",
         "type": "integer"
        },
        {
         "name": "customerID",
         "rawType": "object",
         "type": "string"
        },
        {
         "name": "gender",
         "rawType": "object",
         "type": "string"
        },
        {
         "name": "SeniorCitizen",
         "rawType": "int64",
         "type": "integer"
        },
        {
         "name": "Partner",
         "rawType": "object",
         "type": "string"
        },
        {
         "name": "Dependents",
         "rawType": "object",
         "type": "string"
        },
        {
         "name": "tenure",
         "rawType": "int64",
         "type": "integer"
        },
        {
         "name": "PhoneService",
         "rawType": "object",
         "type": "string"
        },
        {
         "name": "MultipleLines",
         "rawType": "object",
         "type": "string"
        },
        {
         "name": "InternetService",
         "rawType": "object",
         "type": "string"
        },
        {
         "name": "OnlineSecurity",
         "rawType": "object",
         "type": "string"
        },
        {
         "name": "OnlineBackup",
         "rawType": "object",
         "type": "string"
        },
        {
         "name": "DeviceProtection",
         "rawType": "object",
         "type": "string"
        },
        {
         "name": "TechSupport",
         "rawType": "object",
         "type": "string"
        },
        {
         "name": "StreamingTV",
         "rawType": "object",
         "type": "string"
        },
        {
         "name": "StreamingMovies",
         "rawType": "object",
         "type": "string"
        },
        {
         "name": "Contract",
         "rawType": "object",
         "type": "string"
        },
        {
         "name": "PaperlessBilling",
         "rawType": "object",
         "type": "string"
        },
        {
         "name": "PaymentMethod",
         "rawType": "object",
         "type": "string"
        },
        {
         "name": "MonthlyCharges",
         "rawType": "float64",
         "type": "float"
        },
        {
         "name": "TotalCharges",
         "rawType": "float64",
         "type": "float"
        },
        {
         "name": "Churn",
         "rawType": "object",
         "type": "string"
        }
       ],
       "conversionMethod": "pd.DataFrame",
       "ref": "57ee96b8-3827-4cc6-ae05-c92a13914a36",
       "rows": [
        [
         "4757",
         "1582-RAFML",
         "Male",
         "0",
         "No",
         "No",
         "1",
         "Yes",
         "Yes",
         "DSL",
         "No",
         "Yes",
         "No",
         "Yes",
         "No",
         "No",
         "Month-to-month",
         "No",
         "Mailed check",
         "60.1",
         "60.1",
         "Yes"
        ],
        [
         "5615",
         "1493-AMTIE",
         "Male",
         "0",
         "No",
         "No",
         "1",
         "Yes",
         "No",
         "No",
         "No internet service",
         "No internet service",
         "No internet service",
         "No internet service",
         "No internet service",
         "No internet service",
         "Month-to-month",
         "Yes",
         "Bank transfer (automatic)",
         "20.2",
         "20.2",
         "Yes"
        ],
        [
         "1434",
         "1571-SAVHK",
         "Male",
         "0",
         "No",
         "No",
         "12",
         "Yes",
         "Yes",
         "Fiber optic",
         "No",
         "No",
         "No",
         "Yes",
         "Yes",
         "Yes",
         "Month-to-month",
         "Yes",
         "Mailed check",
         "99.95",
         "1132.75",
         "Yes"
        ],
        [
         "5704",
         "0168-XZKBB",
         "Female",
         "0",
         "Yes",
         "No",
         "19",
         "Yes",
         "Yes",
         "Fiber optic",
         "No",
         "No",
         "No",
         "No",
         "Yes",
         "No",
         "Month-to-month",
         "Yes",
         "Electronic check",
         "86.85",
         "1564.4",
         "No"
        ],
        [
         "6556",
         "0661-KQHNK",
         "Female",
         "0",
         "Yes",
         "Yes",
         "6",
         "Yes",
         "No",
         "No",
         "No internet service",
         "No internet service",
         "No internet service",
         "No internet service",
         "No internet service",
         "No internet service",
         "One year",
         "No",
         "Credit card (automatic)",
         "19.0",
         "105.5",
         "No"
        ]
       ],
       "shape": {
        "columns": 21,
        "rows": 5
       }
      },
      "text/html": [
       "<div>\n",
       "<style scoped>\n",
       "    .dataframe tbody tr th:only-of-type {\n",
       "        vertical-align: middle;\n",
       "    }\n",
       "\n",
       "    .dataframe tbody tr th {\n",
       "        vertical-align: top;\n",
       "    }\n",
       "\n",
       "    .dataframe thead th {\n",
       "        text-align: right;\n",
       "    }\n",
       "</style>\n",
       "<table border=\"1\" class=\"dataframe\">\n",
       "  <thead>\n",
       "    <tr style=\"text-align: right;\">\n",
       "      <th></th>\n",
       "      <th>customerID</th>\n",
       "      <th>gender</th>\n",
       "      <th>SeniorCitizen</th>\n",
       "      <th>Partner</th>\n",
       "      <th>Dependents</th>\n",
       "      <th>tenure</th>\n",
       "      <th>PhoneService</th>\n",
       "      <th>MultipleLines</th>\n",
       "      <th>InternetService</th>\n",
       "      <th>OnlineSecurity</th>\n",
       "      <th>...</th>\n",
       "      <th>DeviceProtection</th>\n",
       "      <th>TechSupport</th>\n",
       "      <th>StreamingTV</th>\n",
       "      <th>StreamingMovies</th>\n",
       "      <th>Contract</th>\n",
       "      <th>PaperlessBilling</th>\n",
       "      <th>PaymentMethod</th>\n",
       "      <th>MonthlyCharges</th>\n",
       "      <th>TotalCharges</th>\n",
       "      <th>Churn</th>\n",
       "    </tr>\n",
       "  </thead>\n",
       "  <tbody>\n",
       "    <tr>\n",
       "      <th>4757</th>\n",
       "      <td>1582-RAFML</td>\n",
       "      <td>Male</td>\n",
       "      <td>0</td>\n",
       "      <td>No</td>\n",
       "      <td>No</td>\n",
       "      <td>1</td>\n",
       "      <td>Yes</td>\n",
       "      <td>Yes</td>\n",
       "      <td>DSL</td>\n",
       "      <td>No</td>\n",
       "      <td>...</td>\n",
       "      <td>No</td>\n",
       "      <td>Yes</td>\n",
       "      <td>No</td>\n",
       "      <td>No</td>\n",
       "      <td>Month-to-month</td>\n",
       "      <td>No</td>\n",
       "      <td>Mailed check</td>\n",
       "      <td>60.10</td>\n",
       "      <td>60.10</td>\n",
       "      <td>Yes</td>\n",
       "    </tr>\n",
       "    <tr>\n",
       "      <th>5615</th>\n",
       "      <td>1493-AMTIE</td>\n",
       "      <td>Male</td>\n",
       "      <td>0</td>\n",
       "      <td>No</td>\n",
       "      <td>No</td>\n",
       "      <td>1</td>\n",
       "      <td>Yes</td>\n",
       "      <td>No</td>\n",
       "      <td>No</td>\n",
       "      <td>No internet service</td>\n",
       "      <td>...</td>\n",
       "      <td>No internet service</td>\n",
       "      <td>No internet service</td>\n",
       "      <td>No internet service</td>\n",
       "      <td>No internet service</td>\n",
       "      <td>Month-to-month</td>\n",
       "      <td>Yes</td>\n",
       "      <td>Bank transfer (automatic)</td>\n",
       "      <td>20.20</td>\n",
       "      <td>20.20</td>\n",
       "      <td>Yes</td>\n",
       "    </tr>\n",
       "    <tr>\n",
       "      <th>1434</th>\n",
       "      <td>1571-SAVHK</td>\n",
       "      <td>Male</td>\n",
       "      <td>0</td>\n",
       "      <td>No</td>\n",
       "      <td>No</td>\n",
       "      <td>12</td>\n",
       "      <td>Yes</td>\n",
       "      <td>Yes</td>\n",
       "      <td>Fiber optic</td>\n",
       "      <td>No</td>\n",
       "      <td>...</td>\n",
       "      <td>No</td>\n",
       "      <td>Yes</td>\n",
       "      <td>Yes</td>\n",
       "      <td>Yes</td>\n",
       "      <td>Month-to-month</td>\n",
       "      <td>Yes</td>\n",
       "      <td>Mailed check</td>\n",
       "      <td>99.95</td>\n",
       "      <td>1132.75</td>\n",
       "      <td>Yes</td>\n",
       "    </tr>\n",
       "    <tr>\n",
       "      <th>5704</th>\n",
       "      <td>0168-XZKBB</td>\n",
       "      <td>Female</td>\n",
       "      <td>0</td>\n",
       "      <td>Yes</td>\n",
       "      <td>No</td>\n",
       "      <td>19</td>\n",
       "      <td>Yes</td>\n",
       "      <td>Yes</td>\n",
       "      <td>Fiber optic</td>\n",
       "      <td>No</td>\n",
       "      <td>...</td>\n",
       "      <td>No</td>\n",
       "      <td>No</td>\n",
       "      <td>Yes</td>\n",
       "      <td>No</td>\n",
       "      <td>Month-to-month</td>\n",
       "      <td>Yes</td>\n",
       "      <td>Electronic check</td>\n",
       "      <td>86.85</td>\n",
       "      <td>1564.40</td>\n",
       "      <td>No</td>\n",
       "    </tr>\n",
       "    <tr>\n",
       "      <th>6556</th>\n",
       "      <td>0661-KQHNK</td>\n",
       "      <td>Female</td>\n",
       "      <td>0</td>\n",
       "      <td>Yes</td>\n",
       "      <td>Yes</td>\n",
       "      <td>6</td>\n",
       "      <td>Yes</td>\n",
       "      <td>No</td>\n",
       "      <td>No</td>\n",
       "      <td>No internet service</td>\n",
       "      <td>...</td>\n",
       "      <td>No internet service</td>\n",
       "      <td>No internet service</td>\n",
       "      <td>No internet service</td>\n",
       "      <td>No internet service</td>\n",
       "      <td>One year</td>\n",
       "      <td>No</td>\n",
       "      <td>Credit card (automatic)</td>\n",
       "      <td>19.00</td>\n",
       "      <td>105.50</td>\n",
       "      <td>No</td>\n",
       "    </tr>\n",
       "  </tbody>\n",
       "</table>\n",
       "<p>5 rows × 21 columns</p>\n",
       "</div>"
      ],
      "text/plain": [
       "      customerID  gender  SeniorCitizen Partner Dependents  tenure  \\\n",
       "4757  1582-RAFML    Male              0      No         No       1   \n",
       "5615  1493-AMTIE    Male              0      No         No       1   \n",
       "1434  1571-SAVHK    Male              0      No         No      12   \n",
       "5704  0168-XZKBB  Female              0     Yes         No      19   \n",
       "6556  0661-KQHNK  Female              0     Yes        Yes       6   \n",
       "\n",
       "     PhoneService MultipleLines InternetService       OnlineSecurity  ...  \\\n",
       "4757          Yes           Yes             DSL                   No  ...   \n",
       "5615          Yes            No              No  No internet service  ...   \n",
       "1434          Yes           Yes     Fiber optic                   No  ...   \n",
       "5704          Yes           Yes     Fiber optic                   No  ...   \n",
       "6556          Yes            No              No  No internet service  ...   \n",
       "\n",
       "         DeviceProtection          TechSupport          StreamingTV  \\\n",
       "4757                   No                  Yes                   No   \n",
       "5615  No internet service  No internet service  No internet service   \n",
       "1434                   No                  Yes                  Yes   \n",
       "5704                   No                   No                  Yes   \n",
       "6556  No internet service  No internet service  No internet service   \n",
       "\n",
       "          StreamingMovies        Contract PaperlessBilling  \\\n",
       "4757                   No  Month-to-month               No   \n",
       "5615  No internet service  Month-to-month              Yes   \n",
       "1434                  Yes  Month-to-month              Yes   \n",
       "5704                   No  Month-to-month              Yes   \n",
       "6556  No internet service        One year               No   \n",
       "\n",
       "                  PaymentMethod MonthlyCharges  TotalCharges  Churn  \n",
       "4757               Mailed check          60.10         60.10    Yes  \n",
       "5615  Bank transfer (automatic)          20.20         20.20    Yes  \n",
       "1434               Mailed check          99.95       1132.75    Yes  \n",
       "5704           Electronic check          86.85       1564.40     No  \n",
       "6556    Credit card (automatic)          19.00        105.50     No  \n",
       "\n",
       "[5 rows x 21 columns]"
      ]
     },
     "execution_count": 6,
     "metadata": {},
     "output_type": "execute_result"
    }
   ],
   "source": [
    "df.sample(5)"
   ]
  },
  {
   "cell_type": "code",
   "execution_count": 7,
   "metadata": {},
   "outputs": [
    {
     "data": {
      "text/plain": [
       "7043"
      ]
     },
     "execution_count": 7,
     "metadata": {},
     "output_type": "execute_result"
    }
   ],
   "source": [
    "df[\"customerID\"].nunique()"
   ]
  },
  {
   "cell_type": "markdown",
   "id": "a8973fba",
   "metadata": {},
   "source": [
    "## Is there any relationship between churn rate and gender of customer?"
   ]
  },
  {
   "cell_type": "code",
   "execution_count": 10,
   "id": "214cb273",
   "metadata": {},
   "outputs": [
    {
     "data": {
      "text/plain": [
       "gender  Churn\n",
       "Female  No       2549\n",
       "        Yes       939\n",
       "Male    No       2625\n",
       "        Yes       930\n",
       "Name: count, dtype: int64"
      ]
     },
     "execution_count": 10,
     "metadata": {},
     "output_type": "execute_result"
    }
   ],
   "source": [
    "df.groupby(\"gender\")[\"Churn\"].value_counts()"
   ]
  },
  {
   "cell_type": "code",
   "execution_count": 11,
   "id": "90b5e4d9",
   "metadata": {},
   "outputs": [],
   "source": [
    "from scipy.stats import chi2_contingency\n",
    "\n",
    "def chi2_test(df, col1, col2):\n",
    "    contingency_table = pd.crosstab(df[col1], df[col2])\n",
    "    chi2, p, dof, expected = chi2_contingency(contingency_table)\n",
    "    print(f\"Chi2: {chi2}, p-value: {p}, dof: {dof}\")\n",
    "    if p < 0.05:\n",
    "        print(f\"Reject null hypothesis: {col1} and {col2} are dependent\")\n",
    "    else:\n",
    "        print(f\"Fail to reject null hypothesis: {col1} and {col2} are independent\")"
   ]
  },
  {
   "cell_type": "code",
   "execution_count": 24,
   "id": "32ab2817",
   "metadata": {},
   "outputs": [],
   "source": [
    "def plot_heatmap(df, col1, col2):\n",
    "    contingency_table = pd.crosstab(df[col1], df[col2],normalize='index')\n",
    "    sns.heatmap(contingency_table, annot=True,cmap='Blues',)\n",
    "    plt.title(f\"Heatmap of {col1} vs {col2}\")\n",
    "    plt.xlabel(col2)\n",
    "    plt.ylabel(col1)\n",
    "    plt.savefig(f\"/home/bishnu/project/EDA_Customer_churn/visuals/heatmap_{col1}_{col2}.png\",dpi=300)\n",
    "    plt.show()"
   ]
  },
  {
   "cell_type": "code",
   "execution_count": null,
   "id": "eb48fe3d",
   "metadata": {},
   "outputs": [],
   "source": [
    "# cramers_v test to check the strength of association\n",
    "def cramers_v(x, y):\n",
    "    confusion_matrix = pd.crosstab(x, y)\n",
    "    chi2 = chi2_contingency(confusion_matrix)[0]\n",
    "    n = confusion_matrix.sum().sum()\n",
    "    phi2 = chi2 / n\n",
    "    r, k = confusion_matrix.shape\n",
    "    phi2corr = max(0, phi2 - ((k-1)*(r-1))/(n-1))\n",
    "    rcorr = r - ((r-1)**2)/(n-1)\n",
    "    kcorr = k - ((k-1)**2)/(n-1)\n",
    "    return np.sqrt(phi2corr / min((kcorr-1), (rcorr-1)))\n",
    "\n",
    "def cramers_v_test(df, col1, col2):\n",
    "    cv = cramers_v(df[col1], df[col2])\n",
    "    print(f\"Cramer's V: {cv}\")\n",
    "    if cv < 0.1:\n",
    "        print(f\"Very weak association between {col1} and {col2}\")\n",
    "    elif cv < 0.3:\n",
    "        print(f\"Weak association between {col1} and {col2}\")\n",
    "    elif cv < 0.5:\n",
    "        print(f\"Moderate association between {col1} and {col2}\")\n",
    "    elif cv < 0.7:\n",
    "        print(f\"Strong association between {col1} and {col2}\")\n",
    "    else:\n",
    "        print(f\"Very strong association between {col1} and {col2}\")"
   ]
  },
  {
   "cell_type": "code",
   "execution_count": 26,
   "id": "a5b86e43",
   "metadata": {},
   "outputs": [],
   "source": [
    "path = \"/home/bishnu/project/EDA_Customer_churn/visuals/\""
   ]
  },
  {
   "cell_type": "code",
   "execution_count": 13,
   "id": "ca46f07b",
   "metadata": {},
   "outputs": [
    {
     "name": "stdout",
     "output_type": "stream",
     "text": [
      "Chi2: 0.4840828822091383, p-value: 0.48657873605618596, dof: 1\n",
      "Fail to reject null hypothesis: gender and Churn are independent\n"
     ]
    }
   ],
   "source": [
    "chi2_test(df, \"gender\", \"Churn\")"
   ]
  },
  {
   "cell_type": "code",
   "execution_count": 25,
   "id": "109ec02c",
   "metadata": {},
   "outputs": [
    {
     "data": {
      "image/png": "[encoded data removed]",
      "text/plain": [
       "<Figure size 640x480 with 2 Axes>"
      ]
     },
     "metadata": {},
     "output_type": "display_data"
    }
   ],
   "source": [
    "plot_heatmap(df, \"gender\", \"Churn\")"
   ]
  },
  {
   "cell_type": "markdown",
   "id": "cd6044c4",
   "metadata": {},
   "source": [
    "* There is no significance difference between male and female based on churn rate. i.e churn is not dependent on gender."
   ]
  },
  {
   "cell_type": "markdown",
   "id": "875d1440",
   "metadata": {},
   "source": [
    "## How does churn vary by contract type?"
   ]
  },
  {
   "cell_type": "code",
   "execution_count": 28,
   "id": "2ccfc524",
   "metadata": {},
   "outputs": [
    {
     "data": {
      "text/plain": [
       "Contract\n",
       "Month-to-month    0.550192\n",
       "Two year          0.240664\n",
       "One year          0.209144\n",
       "Name: proportion, dtype: float64"
      ]
     },
     "execution_count": 28,
     "metadata": {},
     "output_type": "execute_result"
    }
   ],
   "source": [
    "df[\"Contract\"].value_counts(  normalize=True)"
   ]
  },
  {
   "cell_type": "code",
   "execution_count": 30,
   "id": "65428155",
   "metadata": {},
   "outputs": [
    {
     "data": {
      "text/plain": [
       "Contract        Churn\n",
       "Month-to-month  No       0.572903\n",
       "                Yes      0.427097\n",
       "One year        No       0.887305\n",
       "                Yes      0.112695\n",
       "Two year        No       0.971681\n",
       "                Yes      0.028319\n",
       "Name: proportion, dtype: float64"
      ]
     },
     "execution_count": 30,
     "metadata": {},
     "output_type": "execute_result"
    }
   ],
   "source": [
    "df.groupby(\"Contract\")[\"Churn\"].value_counts(normalize=True)"
   ]
  },
  {
   "cell_type": "code",
   "execution_count": 31,
   "id": "312d1688",
   "metadata": {},
   "outputs": [
    {
     "name": "stdout",
     "output_type": "stream",
     "text": [
      "Chi2: 1184.5965720837926, p-value: 5.863038300673391e-258, dof: 2\n",
      "Reject null hypothesis: Contract and Churn are dependent\n"
     ]
    }
   ],
   "source": [
    "chi2_test(df, \"Contract\", \"Churn\")"
   ]
  },
  {
   "cell_type": "code",
   "execution_count": null,
   "id": "e4aa2c90",
   "metadata": {},
   "outputs": [
    {
     "name": "stdout",
     "output_type": "stream",
     "text": [
      "Cramer's V: 0.0\n",
      "Very weak association between gender and Churn\n"
     ]
    }
   ],
   "source": [
    "cramers_v_test(df, \"Contract\", \"Churn\")"
   ]
  },
  {
   "cell_type": "code",
   "execution_count": 35,
   "id": "15c5f027",
   "metadata": {},
   "outputs": [
    {
     "data": {
      "image/png": "[encoded data removed]",
      "text/plain": [
       "<Figure size 640x480 with 1 Axes>"
      ]
     },
     "metadata": {},
     "output_type": "display_data"
    }
   ],
   "source": [
    "sns.countplot(x=\"Contract\", hue=\"Churn\", data=df)\n",
    "plt.title(\"Countplot of Contract vs Churn\")\n",
    "plt.xlabel(\"Contract\")\n",
    "plt.ylabel(\"Count\")\n",
    "plt.savefig(f\"{path}countplot_Contract_Churn.png\", dpi=300)\n",
    "plt.show()"
   ]
  },
  {
   "cell_type": "markdown",
   "id": "5b1aae9d",
   "metadata": {},
   "source": [
    "* Users having Month-to-Month contract are more prone to churn.\n",
    "* Around 0.43% of users having Month-to-Month contract are flagged to churn followed by One year (0.11%).\n",
    "* There is moderate association between Contract and Churn column, determined by Chi-square test, backed up by Cravers's test."
   ]
  },
  {
   "cell_type": "markdown",
   "id": "4dc2c3f2",
   "metadata": {},
   "source": [
    "## Is there a relationship between tenure and churn?"
   ]
  },
  {
   "cell_type": "code",
   "execution_count": 36,
   "id": "df7ecd5b",
   "metadata": {},
   "outputs": [
    {
     "data": {
      "text/plain": [
       "count    7043.000000\n",
       "mean       32.371149\n",
       "std        24.559481\n",
       "min         0.000000\n",
       "25%         9.000000\n",
       "50%        29.000000\n",
       "75%        55.000000\n",
       "max        72.000000\n",
       "Name: tenure, dtype: float64"
      ]
     },
     "execution_count": 36,
     "metadata": {},
     "output_type": "execute_result"
    }
   ],
   "source": [
    "df[\"tenure\"].describe()"
   ]
  },
  {
   "cell_type": "code",
   "execution_count": 49,
   "id": "89cb89f3",
   "metadata": {},
   "outputs": [
    {
     "data": {
      "image/png": "[encoded data removed]",
      "text/plain": [
       "<Figure size 640x480 with 1 Axes>"
      ]
     },
     "metadata": {},
     "output_type": "display_data"
    }
   ],
   "source": [
    "sns.kdeplot(data=df, x='tenure', hue='Churn', fill=True, common_norm=False, alpha=0.5)\n",
    "plt.title(\"Distribution of Tenure\")\n",
    "plt.xlabel(\"Tenure\")\n",
    "plt.ylabel(\"Count\")\n",
    "plt.savefig(f\"{path}Kdeplot_tenure.png\", dpi=300)\n",
    "plt.show()"
   ]
  },
  {
   "cell_type": "code",
   "execution_count": 44,
   "id": "41edf4ab",
   "metadata": {},
   "outputs": [
    {
     "data": {
      "image/png": "[encoded data removed]",
      "text/plain": [
       "<Figure size 640x480 with 1 Axes>"
      ]
     },
     "metadata": {},
     "output_type": "display_data"
    }
   ],
   "source": [
    "sns.violinplot(x=\"Churn\", y=\"tenure\", data=df)\n",
    "plt.title(\"Violinplot of Tenure vs Churn\")\n",
    "plt.xlabel(\"Churn\") \n",
    "plt.ylabel(\"Tenure\")\n",
    "plt.savefig(f\"{path}violinplot_tenure_Churn.png\", dpi=300)\n",
    "plt.show()"
   ]
  },
  {
   "cell_type": "code",
   "execution_count": 54,
   "id": "d4ddcc39",
   "metadata": {},
   "outputs": [
    {
     "data": {
      "text/plain": [
       "Churn\n",
       "No     1673\n",
       "Yes    1268\n",
       "Name: count, dtype: int64"
      ]
     },
     "execution_count": 54,
     "metadata": {},
     "output_type": "execute_result"
    }
   ],
   "source": [
    "df[df[\"tenure\"] < 22][\"Churn\"].value_counts()"
   ]
  },
  {
   "cell_type": "code",
   "execution_count": 55,
   "id": "9b51e82f",
   "metadata": {},
   "outputs": [
    {
     "data": {
      "text/plain": [
       "Churn\n",
       "No     3438\n",
       "Yes     574\n",
       "Name: count, dtype: int64"
      ]
     },
     "execution_count": 55,
     "metadata": {},
     "output_type": "execute_result"
    }
   ],
   "source": [
    "df[df[\"tenure\"] > 22][\"Churn\"].value_counts()"
   ]
  },
  {
   "cell_type": "code",
   "execution_count": 57,
   "id": "d75b4421",
   "metadata": {},
   "outputs": [],
   "source": [
    "\n",
    "from scipy.stats import mannwhitneyu\n",
    "def mannwhitneyu_test(df, col1,col2):\n",
    "    churned = df[df['Churn'] == 'Yes'][col1]\n",
    "    not_churned = df[df['Churn'] == 'No'][col1]\n",
    "    \n",
    "    stat, p = mannwhitneyu(churned, not_churned, alternative='two-sided')\n",
    "    \n",
    "    print(f\"Mann-Whitney U Test Statistic: {stat}\")\n",
    "    print(f\"P-value: {p}\")\n",
    "    \n",
    "    alpha = 0.05\n",
    "    if p < alpha:\n",
    "        print(\"Reject the null hypothesis: distributions are significantly different.\")\n",
    "    else:\n",
    "        print(\"Fail to reject the null hypothesis: no significant difference in distributions.\")"
   ]
  },
  {
   "cell_type": "code",
   "execution_count": 58,
   "id": "510f8263",
   "metadata": {},
   "outputs": [
    {
     "name": "stdout",
     "output_type": "stream",
     "text": [
      "Mann-Whitney U Test Statistic: 2515538.0\n",
      "P-value: 2.419635517951866e-208\n",
      "Reject the null hypothesis: distributions are significantly different.\n"
     ]
    }
   ],
   "source": [
    "mannwhitneyu_test(df, \"tenure\", \"Churn\")"
   ]
  },
  {
   "cell_type": "markdown",
   "id": "d7bfb2bc",
   "metadata": {},
   "source": [
    "* This comparison shows that the customers having tenure less than 22 months are more likely to churn.\n",
    "* 1268 out of 1869 churn customers belongd to tenure less than 22 category.\n",
    "* Mann-Whitney U test shows the distribution of tenure per churn category is significantly different. "
   ]
  },
  {
   "cell_type": "markdown",
   "id": "1955cb98",
   "metadata": {},
   "source": [
    "## Does monthly charge (MonthlyCharges) affect churn probability?"
   ]
  },
  {
   "cell_type": "code",
   "execution_count": null,
   "id": "192e54e5",
   "metadata": {},
   "outputs": [],
   "source": []
  },
  {
   "cell_type": "markdown",
   "id": "d7ecd3bb",
   "metadata": {},
   "source": [
    "## Does gender or senior citizenship influence churn?"
   ]
  },
  {
   "cell_type": "code",
   "execution_count": null,
   "id": "df2f9e69",
   "metadata": {},
   "outputs": [],
   "source": []
  },
  {
   "cell_type": "markdown",
   "id": "a4d6dd69",
   "metadata": {},
   "source": [
    "## How does the presence of dependents or partners impact churn?"
   ]
  },
  {
   "cell_type": "code",
   "execution_count": null,
   "id": "776d7809",
   "metadata": {},
   "outputs": [],
   "source": []
  },
  {
   "cell_type": "markdown",
   "id": "66884cfe",
   "metadata": {},
   "source": [
    "## What is the distribution of service usage across customers?"
   ]
  },
  {
   "cell_type": "code",
   "execution_count": null,
   "id": "f7ed4f20",
   "metadata": {},
   "outputs": [],
   "source": []
  },
  {
   "cell_type": "markdown",
   "id": "a9936f13",
   "metadata": {},
   "source": [
    "## Do customers with multiple services churn less or more?"
   ]
  },
  {
   "cell_type": "code",
   "execution_count": null,
   "id": "2c489369",
   "metadata": {},
   "outputs": [],
   "source": []
  },
  {
   "cell_type": "markdown",
   "id": "938a5997",
   "metadata": {},
   "source": [
    "## What payment methods are most common among churned customers?"
   ]
  },
  {
   "cell_type": "code",
   "execution_count": null,
   "id": "1492747e",
   "metadata": {},
   "outputs": [],
   "source": []
  },
  {
   "cell_type": "markdown",
   "id": "f2cddabf",
   "metadata": {},
   "source": [
    "## Is there a correlation between TotalCharges and Churn?"
   ]
  },
  {
   "cell_type": "markdown",
   "id": "dfd2550d",
   "metadata": {},
   "source": []
  }
 ],
 "metadata": {
  "kernelspec": {
   "display_name": "myenv",
   "language": "python",
   "name": "python3"
  },
  "language_info": {
   "codemirror_mode": {
    "name": "ipython",
    "version": 3
   },
   "file_extension": ".py",
   "mimetype": "text/x-python",
   "name": "python",
   "nbconvert_exporter": "python",
   "pygments_lexer": "ipython3",
   "version": "3.12.3"
  }
 },
 "nbformat": 4,
 "nbformat_minor": 5
}
